{
 "cells": [
  {
   "cell_type": "markdown",
   "metadata": {},
   "source": [
    "## Scan the data folder\n",
    "We downloaded a bunch of assets to the data folder. Let's see what we have and compile them into a single `.json` dataset file. This way, we can retrerive the data from a single file. For simplicity, we will just gather the information about `images` because it's easier to show on a website."
   ]
  },
  {
   "cell_type": "code",
   "execution_count": null,
   "metadata": {},
   "outputs": [],
   "source": [
    "import json\n",
    "import os\n",
    "\n",
    "urls_with_snapshots = json.load(open(\"urls_with_snapshots.json\"))\n",
    "print(\"Loaded\", len(urls_with_snapshots), \"urls with snapshots\")\n",
    "print(\"Example:\", urls_with_snapshots[0])"
   ]
  },
  {
   "cell_type": "markdown",
   "metadata": {},
   "source": [
    "### Find assets from the `data` folder"
   ]
  },
  {
   "cell_type": "code",
   "execution_count": null,
   "metadata": {},
   "outputs": [],
   "source": [
    "assets = []\n",
    "DATA_DIR = \"example-data\"\n",
    "ASSETS_FOLDER_NAMES = [\"images\"]\n",
    "\n",
    "# walk through all the files in the data directory\n",
    "for root, dirs, files in os.walk(DATA_DIR):\n",
    "    for file in files:\n",
    "        # see if the enclosing folder is one of the assets folders\n",
    "        folder = os.path.basename(root)\n",
    "        if folder in ASSETS_FOLDER_NAMES:\n",
    "            # add the file to the list of assets\n",
    "            assets.append(os.path.join(root, file))\n",
    "\n",
    "print(\"Found\", len(assets), \"assets in\", ASSETS_FOLDER_NAMES)"
   ]
  },
  {
   "cell_type": "code",
   "execution_count": null,
   "metadata": {},
   "outputs": [],
   "source": [
    "import hashlib\n",
    "\n",
    "\n",
    "def md5_from_file(file_path):\n",
    "    hash_md5 = hashlib.md5()\n",
    "    with open(file_path, \"rb\") as f:\n",
    "        for chunk in iter(lambda: f.read(4096), b\"\"):\n",
    "            hash_md5.update(chunk)\n",
    "    return hash_md5.hexdigest()\n",
    "\n",
    "\n",
    "assets_metadata_list = []\n",
    "\n",
    "for asset in assets:\n",
    "    # enclosing folder is the asset type\n",
    "    print(\"asset:\", asset)\n",
    "    asset_type = os.path.basename(os.path.dirname(asset))\n",
    "    print(\"asset_type:\", asset_type)\n",
    "\n",
    "    # encloseing enclosing folder is the timestamp\n",
    "    timestamp = os.path.basename(os.path.dirname(os.path.dirname(asset)))\n",
    "    print(\"timestamp:\", timestamp)\n",
    "\n",
    "    # encloseing enclosing enclosing folder is the url id\n",
    "    url_id = os.path.basename(os.path.dirname(os.path.dirname(os.path.dirname(asset))))\n",
    "    print(\"url_id:\", url_id)\n",
    "\n",
    "    url = None\n",
    "    # find the url for the url id in the urls_with_snapshots list\n",
    "    for url_w_s in urls_with_snapshots:\n",
    "        if url_w_s[\"id\"] == url_id:\n",
    "            url = url_w_s[\"url\"]\n",
    "            break\n",
    "\n",
    "    print(\"url:\", url)\n",
    "\n",
    "    file_md5 = md5_from_file(asset)\n",
    "    print(\"file_md5:\", file_md5)\n",
    "\n",
    "    asset_metadata = {\n",
    "        \"url\": url,\n",
    "        \"url_id\": url_id,\n",
    "        \"md5\": file_md5,\n",
    "        \"type\": asset_type,\n",
    "        \"path\": asset,\n",
    "    }\n",
    "\n",
    "    assets_metadata_list.append(asset_metadata)\n",
    "\n",
    "print(\"Example:\", assets_metadata_list[0])\n",
    "\n",
    "# save the list of assets to a file\n",
    "json.dump(assets_metadata_list, open(\"assets.json\", \"w\"), indent=2)"
   ]
  }
 ],
 "metadata": {
  "kernelspec": {
   "display_name": ".venv",
   "language": "python",
   "name": "python3"
  },
  "language_info": {
   "codemirror_mode": {
    "name": "ipython",
    "version": 3
   },
   "file_extension": ".py",
   "mimetype": "text/x-python",
   "name": "python",
   "nbconvert_exporter": "python",
   "pygments_lexer": "ipython3",
   "version": "3.12.2"
  }
 },
 "nbformat": 4,
 "nbformat_minor": 2
}
