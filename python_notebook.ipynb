{
 "cells": [
  {
   "cell_type": "markdown",
   "id": "2a075ed8",
   "metadata": {},
   "source": [
    "# Case study notebook\n",
    "The notebook features executable code snippets in the lesson. "
   ]
  },
  {
   "cell_type": "code",
   "execution_count": 1,
   "id": "fc7926df",
   "metadata": {},
   "outputs": [],
   "source": [
    "# Downloading CDX data for each URL\n",
    "\n",
    "import tenacity\n",
    "\n",
    "retry = tenacity.retry(\n",
    "    stop=tenacity.stop_after_attempt(10),\n",
    "    wait=tenacity.wait_exponential(multiplier=1, min=2, max=32),\n",
    "    after=lambda _: time.sleep(2),\n",
    ")\n",
    "import time\n",
    "import requests\n",
    "\n",
    "@retry\n",
    "def download_cdx_data(url):\n",
    "    time.sleep(1.5) # Observing the CDX Server rate limit as stipulated in the Github post cited above. \n",
    "    cdx_url = f\"https://web.archive.org/cdx/search/cdx?url={url}&from=20000401000000&to=20000630235959&filter=statuscode:200&collapse=digest\"\n",
    "    print(f\"Fetching CDX data for: {url}\")\n",
    "    response = requests.get(cdx_url, timeout=10)\n",
    "    response.raise_for_status()\n",
    "\n",
    "    if response.status_code == 200:\n",
    "        return response.text\n",
    "    else:\n",
    "        raise Exception(f\"Failed to fetch CDX data for {url}: {response.status_code}\")\n"
   ]
  },
  {
   "cell_type": "code",
   "execution_count": null,
   "id": "1ae6a17b",
   "metadata": {},
   "outputs": [
    {
     "name": "stdout",
     "output_type": "stream",
     "text": [
      "[{'rank': '1', 'url': 'yahoo.co.jp', 'md5': 'e5fd6205dda399e39d9c3b055734f83f'}, {'rank': '3', 'url': 'biglobe.ne.jp', 'md5': '598ca1bee5d257ac6f3c8477a61c14a2'}, {'rank': '4', 'url': 'geocities.co.jp', 'md5': '03e55e791b0c30a0e70b7fcb73d01894'}, {'rank': '5', 'url': 'nifty.com', 'md5': '02efb45e70adeb94cccd008670559250'}, {'rank': '6', 'url': 'nifty.ne.jp', 'md5': '245505630037d8a520036ff590e3cd2e'}, {'rank': '7', 'url': 'dti.ne.jp', 'md5': '5d5f85669bd24bde374e4e2da080b205'}, {'rank': '8', 'url': 'so-net.ne.jp', 'md5': '535bc4bb48fda288effb74883d8ab222'}, {'rank': '10', 'url': 'hi-ho.ne.jp', 'md5': 'bef081a841799df11166f1d69851d534'}, {'rank': '11', 'url': 'infoweb.ne.jp', 'md5': 'b53ae61a77ead6d7949a01a8b562d704'}, {'rank': '12', 'url': 'mbn.or.jp', 'md5': '4c46800776c8bb778889fda89a6a6b90'}, {'rank': '13', 'url': 'lycos.co.jp', 'md5': '425b80310c0dcf16ac09e4c76a273734'}, {'rank': '14', 'url': 'goo.ne.jp', 'md5': '9cec14420da076836a3fdc6e832b9b92'}, {'rank': '15', 'url': 'odn.ne.jp', 'md5': '893d39529188742980cc3522ae2b7df9'}, {'rank': '16', 'url': 'asahi-net.or.jp', 'md5': 'e51f896069b124422722693994038696'}, {'rank': '17', 'url': 'justnet.ne.jp', 'md5': '94376871a447d09d0041a67dfcad87ec'}, {'rank': '18', 'url': 'rim.or.jp', 'md5': '739c420c8f8ff54eba85bdc8dbd297aa'}, {'rank': '19', 'url': 'interq.or.jp', 'md5': 'f70109946396516168d10e7fc90cf456'}, {'rank': '20', 'url': 'iij4u.or.jp', 'md5': 'b5ad3c7900e51a0eb8c470eccbc6545e'}, {'rank': '21', 'url': 'neweb.ne.jp', 'md5': 'db84cb0d40b9f169a4643ee20c022d40'}, {'rank': '22', 'url': 'infoseek.co.jp', 'md5': 'c41512dcac09e2329ebc5c17564e4f6a'}, {'rank': '23', 'url': 'bekkoame.ne.jp', 'md5': '92932c1e54d99e8c6fac376add3ff8b2'}, {'rank': '24', 'url': 'ocn.ne.jp', 'md5': '2f856f8fd94db69056ec0c40d9723ff5'}, {'rank': '25', 'url': 'rakuten.co.jp', 'md5': '830ddf4e59a7f3c5ada3465445c8b9fa'}, {'rank': '26', 'url': 'dion.ne.jp', 'md5': '6528431ca292d1a40da7085469c250a2'}, {'rank': '27', 'url': 'plala.or.jp', 'md5': 'b3bdcb712d38128626fbb0c76fefed0f'}, {'rank': '28', 'url': 'freeweb.ne.jp', 'md5': 'd91d0c585020a45454ea2f383d3632b2'}, {'rank': '29', 'url': 'impress.co.jp', 'md5': '13e5183cb90bf76e7b92cbe7b2f6980d'}, {'rank': '30', 'url': 'nikkeibp.co.jp', 'md5': '8114c30ebe6c67f874c6bc24c94aaeb7'}, {'rank': '31', 'url': 'sakura.ne.jp', 'md5': '0a244c72332fad89ea19d23938d61f41'}, {'rank': '32', 'url': 'highway.ne.jp', 'md5': '58e98dfc94996a1d7f97f79d7f6ba9ed'}, {'rank': '33', 'url': 'tcup.com', 'md5': 'd4bffe3267a972738ae687eb26cf43d8'}, {'rank': '34', 'url': 'msn.co.jp', 'md5': 'a07316697496dfcb1e4e1dd41e3abec6'}, {'rank': '35', 'url': 'vector.co.jp', 'md5': 'a65a310ffdf9e798db8143f21de138ef'}, {'rank': '36', 'url': 'tripod.co.jp', 'md5': '8fe3236993fff804b28195320880f277'}, {'rank': '37', 'url': '3web.ne.jp', 'md5': '19d85e44f084d4b4d09373bfba3f576c'}, {'rank': '38', 'url': 'big.or.jp', 'md5': 'ecbaa42bb2fc11fb9bcdb25dc35e0147'}, {'rank': '39', 'url': 'cplaza.ne.jp', 'md5': 'dafd5d5b886aad6e89f76c2135329b73'}, {'rank': '40', 'url': 'iijnet.or.jp', 'md5': '44da265701c915e168eafe0248abb9fa'}, {'rank': '41', 'url': 'isize.com', 'md5': 'a26aface8846a624b68d7441323ad6ea'}, {'rank': '42', 'url': 'excite.co.jp', 'md5': 'e528d0efed0c242afcecb4e6ab1dab65'}, {'rank': '43', 'url': 'cool.ne.jp', 'md5': '2b0c7d6d57de273795c2fce2e398fdac'}, {'rank': '45', 'url': 'din.or.jp', 'md5': 'b4e722d81eee74c8eeb6c9986698619b'}, {'rank': '47', 'url': 'www.ne.jp', 'md5': '9dc00b08361ebb7d937f428bbc6d4fe1'}, {'rank': '48', 'url': 'xaxon.ne.jp', 'md5': '744cf7747fa551bada76b7650c8cfbbb'}, {'rank': '49', 'url': 'nikkei.co.jp', 'md5': '3e907a24a0769b56fc27880bc2db17be'}, {'rank': '50', 'url': 'asahi.com', 'md5': '439868a9c18529515a0be3529bfb20aa'}]\n"
     ]
    }
   ],
   "source": [
    "import csv\n",
    "import hashlib\n",
    "from pathlib import Path\n",
    "\n",
    "csv_file = \"nikkeibp-may2000-abridged.csv\"\n",
    "\n",
    "urls_data = []\n",
    "\n",
    "# Load CSV file into dictionary\n",
    "with open(csv_file, mode='r', encoding='utf-8') as file:\n",
    "    reader = csv.DictReader(file)\n",
    "    urls_data = list(reader)\n",
    "\n",
    "# Generate a MD5 hash for each URL. \n",
    "# We will use this hash for saving the CDX data and HTML data. \n",
    "\n",
    "for url in urls_data:\n",
    "    url['md5'] = hashlib.md5(url['url'].encode('utf-8')).hexdigest()\n",
    "\n",
    "print(urls_data)\n",
    "\n",
    "# Expected output: \n",
    "# [{'rank': '1', 'url': 'yahoo.co.jp', 'md5': 'e5fd6205dda399e39d9c3b055734f83f'}, ...\n"
   ]
  },
  {
   "cell_type": "code",
   "execution_count": 4,
   "id": "39702045",
   "metadata": {},
   "outputs": [
    {
     "name": "stdout",
     "output_type": "stream",
     "text": [
      "CDX data for yahoo.co.jp already exists at data/e5fd6205dda399e39d9c3b055734f83f/cdx.csv. Skipping download.\n",
      "CDX data for biglobe.ne.jp already exists at data/598ca1bee5d257ac6f3c8477a61c14a2/cdx.csv. Skipping download.\n",
      "CDX data for geocities.co.jp already exists at data/03e55e791b0c30a0e70b7fcb73d01894/cdx.csv. Skipping download.\n",
      "CDX data for nifty.com already exists at data/02efb45e70adeb94cccd008670559250/cdx.csv. Skipping download.\n",
      "CDX data for nifty.ne.jp already exists at data/245505630037d8a520036ff590e3cd2e/cdx.csv. Skipping download.\n",
      "CDX data for dti.ne.jp already exists at data/5d5f85669bd24bde374e4e2da080b205/cdx.csv. Skipping download.\n",
      "CDX data for so-net.ne.jp already exists at data/535bc4bb48fda288effb74883d8ab222/cdx.csv. Skipping download.\n",
      "CDX data for hi-ho.ne.jp already exists at data/bef081a841799df11166f1d69851d534/cdx.csv. Skipping download.\n",
      "CDX data for infoweb.ne.jp already exists at data/b53ae61a77ead6d7949a01a8b562d704/cdx.csv. Skipping download.\n",
      "CDX data for mbn.or.jp already exists at data/4c46800776c8bb778889fda89a6a6b90/cdx.csv. Skipping download.\n",
      "CDX data for lycos.co.jp already exists at data/425b80310c0dcf16ac09e4c76a273734/cdx.csv. Skipping download.\n",
      "CDX data for goo.ne.jp already exists at data/9cec14420da076836a3fdc6e832b9b92/cdx.csv. Skipping download.\n",
      "CDX data for odn.ne.jp already exists at data/893d39529188742980cc3522ae2b7df9/cdx.csv. Skipping download.\n",
      "CDX data for asahi-net.or.jp already exists at data/e51f896069b124422722693994038696/cdx.csv. Skipping download.\n",
      "CDX data for justnet.ne.jp already exists at data/94376871a447d09d0041a67dfcad87ec/cdx.csv. Skipping download.\n",
      "CDX data for rim.or.jp already exists at data/739c420c8f8ff54eba85bdc8dbd297aa/cdx.csv. Skipping download.\n",
      "CDX data for interq.or.jp already exists at data/f70109946396516168d10e7fc90cf456/cdx.csv. Skipping download.\n",
      "CDX data for iij4u.or.jp already exists at data/b5ad3c7900e51a0eb8c470eccbc6545e/cdx.csv. Skipping download.\n",
      "CDX data for neweb.ne.jp already exists at data/db84cb0d40b9f169a4643ee20c022d40/cdx.csv. Skipping download.\n",
      "CDX data for infoseek.co.jp already exists at data/c41512dcac09e2329ebc5c17564e4f6a/cdx.csv. Skipping download.\n",
      "CDX data for bekkoame.ne.jp already exists at data/92932c1e54d99e8c6fac376add3ff8b2/cdx.csv. Skipping download.\n",
      "CDX data for ocn.ne.jp already exists at data/2f856f8fd94db69056ec0c40d9723ff5/cdx.csv. Skipping download.\n",
      "CDX data for rakuten.co.jp already exists at data/830ddf4e59a7f3c5ada3465445c8b9fa/cdx.csv. Skipping download.\n",
      "CDX data for dion.ne.jp already exists at data/6528431ca292d1a40da7085469c250a2/cdx.csv. Skipping download.\n",
      "CDX data for plala.or.jp already exists at data/b3bdcb712d38128626fbb0c76fefed0f/cdx.csv. Skipping download.\n",
      "CDX data for freeweb.ne.jp already exists at data/d91d0c585020a45454ea2f383d3632b2/cdx.csv. Skipping download.\n",
      "CDX data for impress.co.jp already exists at data/13e5183cb90bf76e7b92cbe7b2f6980d/cdx.csv. Skipping download.\n",
      "CDX data for nikkeibp.co.jp already exists at data/8114c30ebe6c67f874c6bc24c94aaeb7/cdx.csv. Skipping download.\n",
      "CDX data for sakura.ne.jp already exists at data/0a244c72332fad89ea19d23938d61f41/cdx.csv. Skipping download.\n",
      "CDX data for highway.ne.jp already exists at data/58e98dfc94996a1d7f97f79d7f6ba9ed/cdx.csv. Skipping download.\n",
      "CDX data for tcup.com already exists at data/d4bffe3267a972738ae687eb26cf43d8/cdx.csv. Skipping download.\n",
      "CDX data for msn.co.jp already exists at data/a07316697496dfcb1e4e1dd41e3abec6/cdx.csv. Skipping download.\n",
      "CDX data for vector.co.jp already exists at data/a65a310ffdf9e798db8143f21de138ef/cdx.csv. Skipping download.\n",
      "CDX data for tripod.co.jp already exists at data/8fe3236993fff804b28195320880f277/cdx.csv. Skipping download.\n",
      "CDX data for 3web.ne.jp already exists at data/19d85e44f084d4b4d09373bfba3f576c/cdx.csv. Skipping download.\n",
      "CDX data for big.or.jp already exists at data/ecbaa42bb2fc11fb9bcdb25dc35e0147/cdx.csv. Skipping download.\n",
      "CDX data for cplaza.ne.jp already exists at data/dafd5d5b886aad6e89f76c2135329b73/cdx.csv. Skipping download.\n",
      "CDX data for iijnet.or.jp already exists at data/44da265701c915e168eafe0248abb9fa/cdx.csv. Skipping download.\n",
      "CDX data for isize.com already exists at data/a26aface8846a624b68d7441323ad6ea/cdx.csv. Skipping download.\n",
      "CDX data for excite.co.jp already exists at data/e528d0efed0c242afcecb4e6ab1dab65/cdx.csv. Skipping download.\n",
      "CDX data for cool.ne.jp already exists at data/2b0c7d6d57de273795c2fce2e398fdac/cdx.csv. Skipping download.\n",
      "CDX data for din.or.jp already exists at data/b4e722d81eee74c8eeb6c9986698619b/cdx.csv. Skipping download.\n",
      "CDX data for www.ne.jp already exists at data/9dc00b08361ebb7d937f428bbc6d4fe1/cdx.csv. Skipping download.\n",
      "CDX data for xaxon.ne.jp already exists at data/744cf7747fa551bada76b7650c8cfbbb/cdx.csv. Skipping download.\n",
      "CDX data for nikkei.co.jp already exists at data/3e907a24a0769b56fc27880bc2db17be/cdx.csv. Skipping download.\n",
      "CDX data for asahi.com already exists at data/439868a9c18529515a0be3529bfb20aa/cdx.csv. Skipping download.\n"
     ]
    }
   ],
   "source": [
    "# This section downloads the CDX data for each URL in the dataset.\n",
    "# It checks if the CDX data for the URL has already been downloaded, \n",
    "# and if not, it fetches the data from the Internet Archive's CDX API.\n",
    "\n",
    "for url in urls_data: \n",
    "    # If the CDX data for the URL has already been downloaded, skip it.\n",
    "    cdx_file_path = Path(f\"data/{url['md5']}/cdx.csv\")\n",
    "    if cdx_file_path.exists():\n",
    "        print(f\"CDX data for {url['url']} already exists at {cdx_file_path}. Skipping download.\")\n",
    "        continue\n",
    "    try:\n",
    "        cdx_data = download_cdx_data(url['url'])\n",
    "        # Save the CDX data to a file named after the MD5 hash of the URL\n",
    "        cdx_file_path.parent.mkdir(parents=True, exist_ok=True)\n",
    "        with open(cdx_file_path, 'w', encoding='utf-8') as cdx_file:\n",
    "            cdx_file.write(cdx_data)\n",
    "        print(f\"CDX data saved for {url['url']} at {cdx_file_path}\")\n",
    "    except Exception as e:\n",
    "        print(f\"Error fetching CDX data for {url['url']}: {e}\")"
   ]
  },
  {
   "cell_type": "code",
   "execution_count": 13,
   "id": "8f2069fe",
   "metadata": {},
   "outputs": [
    {
     "name": "stdout",
     "output_type": "stream",
     "text": [
      "Choosing 2 random snapshots from data/d91d0c585020a45454ea2f383d3632b2/cdx.csv\n",
      "Already downloaded 0 snapshots for data/d91d0c585020a45454ea2f383d3632b2/cdx.csv\n",
      "Number of new snapshots to download: 2\n",
      "[['jp,ne,freeweb)/', '20000510064154', 'http://www1.freeweb.ne.jp:80/', 'text/html', '200', 'GZAOLGGPTQHFVW7QNA6L33CXPQTIJFVP', '1013'], ['jp,ne,freeweb)/', '20000510125118', 'http://www3.freeweb.ne.jp:80/', 'text/html', '200', 'E6D7TWMPCWJ5R75AXYFUUIZ22UZ2I45Y', '489']]\n"
     ]
    }
   ],
   "source": [
    "# Analyze each CDX file and choose random snapshots for each URL \n",
    "# (if there is only one available snapshot to choose from, choose that one). \n",
    "# Make sure that the two snapshots have different digests. \n",
    "\n",
    "import random\n",
    "def choose_random_snapshots_to_download(cdx_file_path, num_snapshots=2):\n",
    "\n",
    "    print(f\"Choosing {num_snapshots} random snapshots from {cdx_file_path}\")\n",
    "\n",
    "    # check if there are already any downloaded snapshots\n",
    "    snapshots_dir = Path(cdx_file_path).parent\n",
    "    downloaded_htmls = snapshots_dir.glob('*.html')\n",
    "    # get file names without the extension\n",
    "    downloaded_htmls = [html_file.stem for html_file in downloaded_htmls]\n",
    "    print(f\"Already downloaded {len(downloaded_htmls)} snapshots for {cdx_file_path}\")\n",
    "    num_snapshots -= len(downloaded_htmls)\n",
    "    print(f\"Number of new snapshots to download: {num_snapshots}\")\n",
    "\n",
    "    if num_snapshots <= 0:\n",
    "        print(f\"No new snapshots to download for {cdx_file_path}. Already have {len(downloaded_htmls)} downloaded.\")\n",
    "        return []\n",
    "    \n",
    "    # Read the CDX file and collect snapshots\n",
    "    snapshots = []\n",
    "    with open(cdx_file_path, 'r', encoding='utf-8') as cdx_file:\n",
    "        reader = csv.reader(cdx_file, delimiter=' ')\n",
    "        for row in reader:\n",
    "            if len(row) >= 3:  # Ensure there are enough columns\n",
    "                snapshots.append(row)\n",
    "    \n",
    "    # Remove duplicates based on the digest (6th column)\n",
    "    unique_snapshots = {snapshot[5]: snapshot for snapshot in snapshots}.values()\n",
    "\n",
    "    # Remove snapshots that have already been downloaded\n",
    "    unique_snapshots = [snapshot for snapshot in unique_snapshots if snapshot[1] not in downloaded_htmls]\n",
    "    \n",
    "    # Randomly select the target number of snapshots\n",
    "    selected_snapshots = random.sample(list(unique_snapshots), min(num_snapshots, len(unique_snapshots)))\n",
    "    return selected_snapshots\n",
    "\n",
    "print(choose_random_snapshots_to_download('data/d91d0c585020a45454ea2f383d3632b2/cdx.csv'))\n"
   ]
  },
  {
   "cell_type": "code",
   "execution_count": null,
   "id": "3280ff87",
   "metadata": {},
   "outputs": [],
   "source": []
  }
 ],
 "metadata": {
  "kernelspec": {
   "display_name": "base",
   "language": "python",
   "name": "python3"
  },
  "language_info": {
   "codemirror_mode": {
    "name": "ipython",
    "version": 3
   },
   "file_extension": ".py",
   "mimetype": "text/x-python",
   "name": "python",
   "nbconvert_exporter": "python",
   "pygments_lexer": "ipython3",
   "version": "3.9.12"
  }
 },
 "nbformat": 4,
 "nbformat_minor": 5
}
