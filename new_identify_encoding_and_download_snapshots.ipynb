{
 "cells": [
  {
   "cell_type": "code",
   "execution_count": null,
   "id": "f709d6ed",
   "metadata": {},
   "outputs": [],
   "source": [
    "import requests\n",
    "from urllib.parse import urlparse\n",
    "from requests.exceptions import RequestException\n",
    "\n",
    "def retrieve_archive_html(original_url: str, timestamp: str):\n",
    "    \"\"\"\n",
    "    Downloads the HTML content of a URL from the Wayback Machine at a specific timestamp.\n",
    "\n",
    "    :param original_url: The original URL to be archived.\n",
    "    :param timestamp: The timestamp in the format 'YYYYMMDDhhmmss'.\n",
    "    :return: The HTML content of the archived page.\n",
    "    \"\"\"\n",
    "\n",
    "    wayback_url = f\"https://web.archive.org/web/{timestamp}/{original_url}\"\n",
    "    \n",
    "    try:\n",
    "        response = requests.get(wayback_url, timeout=10)\n",
    "        response.raise_for_status()\n",
    "        return response.text\n",
    "    except RequestException as e:\n",
    "        raise RuntimeError(f\"Failed to download archive: {e}\") \n",
    "\n"
   ]
  }
 ],
 "metadata": {
  "language_info": {
   "name": "python"
  }
 },
 "nbformat": 4,
 "nbformat_minor": 5
}
