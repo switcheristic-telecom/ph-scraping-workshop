{
 "cells": [
  {
   "cell_type": "code",
   "execution_count": 1,
   "id": "291a62cb",
   "metadata": {},
   "outputs": [],
   "source": [
    "import csv, hashlib, requests\n",
    "# read nikkeibp-may2000-ja_only.csv\n",
    "with open('nikkeibp-may2000-ja_only.csv', 'r', encoding='utf-8') as f:\n",
    "    reader = csv.reader(f)\n",
    "    reader = list(reader)"
   ]
  },
  {
   "cell_type": "code",
   "execution_count": 2,
   "id": "b16c6143",
   "metadata": {},
   "outputs": [],
   "source": [
    "def make_wm_cdx_url(url, from_time=\"19960101\", to_time=\"20051231\"):\n",
    "    \"\"\"\n",
    "    Construct a URL to query the Wayback Machine CDX API\n",
    "    for a given URL and time range\n",
    "    \"\"\"\n",
    "    base_url = \"https://web.archive.org/cdx/search/cdx\"\n",
    "    params = {\n",
    "        \"url\": url,\n",
    "        \"from\": from_time,\n",
    "        \"to\": to_time,\n",
    "    }\n",
    "\n",
    "    # this will create a URL with the parameters\n",
    "    # eg. https://web.archive.org/cdx/search/cdx?url=example.com&from=20000101&to=20001231\n",
    "    url_with_params = requests.Request(\"GET\", base_url, params=params).prepare().url\n",
    "    return url_with_params\n"
   ]
  },
  {
   "cell_type": "code",
   "execution_count": 6,
   "id": "0a041c02",
   "metadata": {},
   "outputs": [
    {
     "name": "stdout",
     "output_type": "stream",
     "text": [
      "0f138dda0c7309194c9cb1bd25e2e69db93585ab https://web.archive.org/cdx/search/cdx?url=infoweb.ne.jp&from=20000101&to=20001231\n",
      "Data for infoweb.ne.jp retrieved successfully.\n"
     ]
    },
    {
     "ename": "AttributeError",
     "evalue": "module 'pandas.compat' has no attribute 'StringIO'",
     "output_type": "error",
     "traceback": [
      "\u001b[0;31m---------------------------------------------------------------------------\u001b[0m",
      "\u001b[0;31mAttributeError\u001b[0m                            Traceback (most recent call last)",
      "Cell \u001b[0;32mIn[6], line 18\u001b[0m\n\u001b[1;32m     16\u001b[0m \u001b[38;5;28mprint\u001b[39m(\u001b[38;5;124mf\u001b[39m\u001b[38;5;124m\"\u001b[39m\u001b[38;5;124mData for \u001b[39m\u001b[38;5;132;01m{\u001b[39;00murl\u001b[38;5;132;01m}\u001b[39;00m\u001b[38;5;124m retrieved successfully.\u001b[39m\u001b[38;5;124m\"\u001b[39m)\n\u001b[1;32m     17\u001b[0m \u001b[38;5;66;03m# read response as csv using pandas\u001b[39;00m\n\u001b[0;32m---> 18\u001b[0m data \u001b[38;5;241m=\u001b[39m pd\u001b[38;5;241m.\u001b[39mread_csv(pd\u001b[38;5;241m.\u001b[39mcompat\u001b[38;5;241m.\u001b[39mStringIO(response\u001b[38;5;241m.\u001b[39mtext), header\u001b[38;5;241m=\u001b[39m\u001b[38;5;28;01mNone\u001b[39;00m)\n\u001b[1;32m     19\u001b[0m \u001b[38;5;66;03m# print the first few rows of the data\u001b[39;00m\n\u001b[1;32m     20\u001b[0m \u001b[38;5;28mprint\u001b[39m(data\u001b[38;5;241m.\u001b[39mhead())\n",
      "\u001b[0;31mAttributeError\u001b[0m: module 'pandas.compat' has no attribute 'StringIO'"
     ]
    }
   ],
   "source": [
    "import random\n",
    "import pandas as pd\n",
    "\n",
    "for row in reader[8:9]:\n",
    "    url = row[1]\n",
    "    # create a hash of the URL\n",
    "    url_hash = hashlib.sha1(url.encode('utf-8')).hexdigest()\n",
    "    # create the Wayback Machine CDX URL\n",
    "    cdx_url = make_wm_cdx_url(url, from_time=\"20000101\", to_time=\"20001231\")\n",
    "    # print the URL and the hash\n",
    "    print(f\"{url_hash} {cdx_url}\")\n",
    "    # make a request to the Wayback Machine CDX API\n",
    "    response = requests.get(cdx_url)\n",
    "    # check if the request was successful\n",
    "    if response.status_code == 200:\n",
    "        print(f\"Data for {url} retrieved successfully.\")\n",
    "        # read response as csv using pandas\n",
    "        data = pd.read_csv(pd.compat.StringIO(response.text), header=None)\n",
    "        # print the first few rows of the data\n",
    "        print(data.head())\n",
    "    else:\n",
    "        print(f\"Failed to retrieve data for {url}\")"
   ]
  },
  {
   "cell_type": "code",
   "execution_count": null,
   "id": "b8f86794",
   "metadata": {},
   "outputs": [],
   "source": []
  }
 ],
 "metadata": {
  "kernelspec": {
   "display_name": "base",
   "language": "python",
   "name": "python3"
  },
  "language_info": {
   "codemirror_mode": {
    "name": "ipython",
    "version": 3
   },
   "file_extension": ".py",
   "mimetype": "text/x-python",
   "name": "python",
   "nbconvert_exporter": "python",
   "pygments_lexer": "ipython3",
   "version": "3.12.4"
  }
 },
 "nbformat": 4,
 "nbformat_minor": 5
}
