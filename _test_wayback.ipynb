{
 "cells": [
  {
   "cell_type": "code",
   "execution_count": 1,
   "id": "54d9181b",
   "metadata": {},
   "outputs": [],
   "source": [
    "import wayback\n",
    "\n",
    "\n",
    "client = wayback.WaybackClient()\n"
   ]
  },
  {
   "cell_type": "code",
   "execution_count": 2,
   "id": "7229d4c3",
   "metadata": {},
   "outputs": [],
   "source": [
    "records = client.search('http://hi-ho.ne.jp', to_date='20001231', from_date='20000101')\n"
   ]
  },
  {
   "cell_type": "code",
   "execution_count": 4,
   "id": "932b97db",
   "metadata": {},
   "outputs": [],
   "source": [
    "record = next(records)"
   ]
  },
  {
   "cell_type": "code",
   "execution_count": 5,
   "id": "8b119a70",
   "metadata": {},
   "outputs": [
    {
     "name": "stdout",
     "output_type": "stream",
     "text": [
      "CdxRecord(key='jp,ne,hi-ho)/', timestamp=datetime.datetime(2000, 2, 29, 10, 17, 26, tzinfo=datetime.timezone.utc), url='http://www.hi-ho.ne.jp/', mime_type='text/html', status_code=200, digest='SYHARIWCIV3VBDBH2GP5DREICTJ5LZ46', length=468, raw_url='https://web.archive.org/web/20000229101726id_/http://www.hi-ho.ne.jp/', view_url='https://web.archive.org/web/20000229101726/http://www.hi-ho.ne.jp/')\n"
     ]
    }
   ],
   "source": [
    "print(record)"
   ]
  },
  {
   "cell_type": "code",
   "execution_count": 8,
   "id": "28288599",
   "metadata": {},
   "outputs": [],
   "source": [
    "from wayback import Mode\n",
    "\n",
    "response = client.get_memento(record, mode=Mode.original)\n",
    "content = response.content.decode('shift-jis')"
   ]
  },
  {
   "cell_type": "code",
   "execution_count": 9,
   "id": "d3469218",
   "metadata": {},
   "outputs": [
    {
     "name": "stdout",
     "output_type": "stream",
     "text": [
      "<html><head><title></title>\n",
      "<meta http-equiv=\"refresh\" content=\"0;url=http://home.hi-ho.ne.jp/\"\n",
      "</head><body bgcolor=\"#ffffff\"><center>\n",
      "URLが変わりました。<br>\n",
      "ブックマークなどの変更をお願いします。<p>\n",
      "新URL:  <a href=\"http://home.hi-ho.ne.jp/\">http://home.hi-ho.ne.jp/</a>\n",
      "<p>\n",
      "</center></body></html>\n",
      "\n"
     ]
    }
   ],
   "source": [
    "print(content)"
   ]
  }
 ],
 "metadata": {
  "kernelspec": {
   "display_name": "base",
   "language": "python",
   "name": "python3"
  },
  "language_info": {
   "codemirror_mode": {
    "name": "ipython",
    "version": 3
   },
   "file_extension": ".py",
   "mimetype": "text/x-python",
   "name": "python",
   "nbconvert_exporter": "python",
   "pygments_lexer": "ipython3",
   "version": "3.12.4"
  }
 },
 "nbformat": 4,
 "nbformat_minor": 5
}
