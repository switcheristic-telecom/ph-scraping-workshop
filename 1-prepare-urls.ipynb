{
 "cells": [
  {
   "cell_type": "markdown",
   "metadata": {},
   "source": [
    "## Prepare URLs\n",
    "- Load url from `.txt` file\n",
    "- Assign a unique id to each url\n",
    "- Save the result to `urls.json` file"
   ]
  },
  {
   "cell_type": "markdown",
   "metadata": {},
   "source": [
    "### Load url from `.txt` file\n",
    "\n",
    "We are loading the URLs from a `.txt` file. We are assuming that the file contains one URL per line. We will load the URLs into a `list`, as such:\n",
    "\n",
    "```python\n",
    "['https://www.example.com/page1',\n",
    " 'https://www.example.com/page2',\n",
    " ...]\n",
    "```"
   ]
  },
  {
   "cell_type": "code",
   "execution_count": null,
   "metadata": {},
   "outputs": [],
   "source": [
    "URL_PATH = \"urls.txt\"\n",
    "\n",
    "# INITIALIZE THE URL LIST\n",
    "url_list = []\n",
    "\n",
    "# READ THE URLS\n",
    "with open(URL_PATH, \"r\") as f:\n",
    "    url_list = f.readlines()\n",
    "    # filter out empty lines\n",
    "    url_list = [url.strip() for url in url_list if url.strip()]\n",
    "\n",
    "# PRINT THE URLS\n",
    "print(f\"Read {len(url_list)} URLs from {URL_PATH}\")\n",
    "print(\"First 5 URLs:\")\n",
    "for url in url_list[:5]:\n",
    "    print(url)"
   ]
  },
  {
   "cell_type": "markdown",
   "metadata": {},
   "source": [
    "### Assign a unique id to each url\n",
    "URLs are pretty long and freeform. We will assign a unique ID to each URL. This will help us to refer to the URLs in a more concise manner later on.\n",
    "\n",
    "We will use a `list` of `dictionaries` to store the URLs and their IDs. The dictionary will have two keys: `id` and `url`. A dictionary is a collection of key-value pairs. It's a data structure that allows us to store and retrieve values by name. In this case, we can store two fields in one object. It will look as such:\n",
    "\n",
    "```python\n",
    "[{'id': \"abcdef\", 'url': 'https://www.example.com/page1'},\n",
    " {'id': \"abceef\", 'url': 'https://www.example.com/page2'},\n",
    " ...]\n",
    "```\n",
    "If you are familiar with JSON, you can think of a dictionary as a JSON object. Find more about Python dictionaries [here](https://docs.python.org/3/tutorial/datastructures.html#dictionaries)."
   ]
  },
  {
   "cell_type": "code",
   "execution_count": null,
   "metadata": {},
   "outputs": [],
   "source": [
    "# md5 is a hashing function that generates a 32 character string\n",
    "# for the same input, the output will always be the same\n",
    "import hashlib\n",
    "\n",
    "#######################\n",
    "# INITIALIZE THE NEW LIST\n",
    "#######################\n",
    "\n",
    "url_with_id_list = []\n",
    "\n",
    "#######################\n",
    "# ASSIGN UUIDS TO URLS\n",
    "#######################\n",
    "\n",
    "for url in url_list:\n",
    "    # generate a md5 hash from the url\n",
    "    md5_hash = hashlib.md5()\n",
    "    md5_hash.update(url.encode())\n",
    "    id_str = md5_hash.hexdigest()\n",
    "\n",
    "    # create the dictionary entry\n",
    "    url_with_id = {\"id\": id_str, \"url\": url}\n",
    "\n",
    "    # append the dictionary to the list\n",
    "    url_with_id_list.append(url_with_id)\n",
    "\n",
    "\n",
    "# PRINT THE URLS\n",
    "print(f\"Assigned UUIDs to URLs\")\n",
    "print(\"First 5 URLs:\")\n",
    "for url_with_id in url_with_id_list[:5]:\n",
    "    print(url_with_id)"
   ]
  },
  {
   "cell_type": "code",
   "execution_count": 19,
   "metadata": {},
   "outputs": [],
   "source": [
    "#######################\n",
    "# WRITE THE NEW LIST TO A FILE\n",
    "#######################\n",
    "\n",
    "import json\n",
    "\n",
    "# WRITE THE URL DICTIONARY TO A FILE\n",
    "URL_DICT_PATH = \"urls.json\"\n",
    "with open(URL_DICT_PATH, \"w\") as f:\n",
    "    json.dump(url_with_id_list, f, indent=2)"
   ]
  }
 ],
 "metadata": {
  "kernelspec": {
   "display_name": "Python 3",
   "language": "python",
   "name": "python3"
  },
  "language_info": {
   "codemirror_mode": {
    "name": "ipython",
    "version": 3
   },
   "file_extension": ".py",
   "mimetype": "text/x-python",
   "name": "python",
   "nbconvert_exporter": "python",
   "pygments_lexer": "ipython3",
   "version": "3.9.16"
  }
 },
 "nbformat": 4,
 "nbformat_minor": 2
}
